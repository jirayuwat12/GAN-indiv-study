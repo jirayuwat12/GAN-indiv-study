{
 "cells": [
  {
   "cell_type": "code",
   "execution_count": 52,
   "metadata": {},
   "outputs": [
    {
     "name": "stdout",
     "output_type": "stream",
     "text": [
      "Requirement already satisfied: torch==2.0.1 in /Users/jirayuwat/Desktop/GAN-indiv-study/env/lib/python3.9/site-packages (from -r requirements.txt (line 1)) (2.0.1)\n",
      "Requirement already satisfied: matplotlib in /Users/jirayuwat/Desktop/GAN-indiv-study/env/lib/python3.9/site-packages (from -r requirements.txt (line 2)) (3.7.2)\n",
      "Requirement already satisfied: sympy in /Users/jirayuwat/Desktop/GAN-indiv-study/env/lib/python3.9/site-packages (from torch==2.0.1->-r requirements.txt (line 1)) (1.12)\n",
      "Requirement already satisfied: typing-extensions in /Users/jirayuwat/Desktop/GAN-indiv-study/env/lib/python3.9/site-packages (from torch==2.0.1->-r requirements.txt (line 1)) (4.7.1)\n",
      "Requirement already satisfied: networkx in /Users/jirayuwat/Desktop/GAN-indiv-study/env/lib/python3.9/site-packages (from torch==2.0.1->-r requirements.txt (line 1)) (3.1)\n",
      "Requirement already satisfied: filelock in /Users/jirayuwat/Desktop/GAN-indiv-study/env/lib/python3.9/site-packages (from torch==2.0.1->-r requirements.txt (line 1)) (3.12.2)\n",
      "Requirement already satisfied: jinja2 in /Users/jirayuwat/Desktop/GAN-indiv-study/env/lib/python3.9/site-packages (from torch==2.0.1->-r requirements.txt (line 1)) (3.1.2)\n",
      "Requirement already satisfied: cycler>=0.10 in /Users/jirayuwat/Desktop/GAN-indiv-study/env/lib/python3.9/site-packages (from matplotlib->-r requirements.txt (line 2)) (0.11.0)\n",
      "Requirement already satisfied: packaging>=20.0 in /Users/jirayuwat/Desktop/GAN-indiv-study/env/lib/python3.9/site-packages (from matplotlib->-r requirements.txt (line 2)) (23.1)\n",
      "Requirement already satisfied: pyparsing<3.1,>=2.3.1 in /Users/jirayuwat/Desktop/GAN-indiv-study/env/lib/python3.9/site-packages (from matplotlib->-r requirements.txt (line 2)) (3.0.9)\n",
      "Requirement already satisfied: kiwisolver>=1.0.1 in /Users/jirayuwat/Desktop/GAN-indiv-study/env/lib/python3.9/site-packages (from matplotlib->-r requirements.txt (line 2)) (1.4.4)\n",
      "Requirement already satisfied: contourpy>=1.0.1 in /Users/jirayuwat/Desktop/GAN-indiv-study/env/lib/python3.9/site-packages (from matplotlib->-r requirements.txt (line 2)) (1.1.0)\n",
      "Requirement already satisfied: pillow>=6.2.0 in /Users/jirayuwat/Desktop/GAN-indiv-study/env/lib/python3.9/site-packages (from matplotlib->-r requirements.txt (line 2)) (10.0.0)\n",
      "Requirement already satisfied: python-dateutil>=2.7 in /Users/jirayuwat/Desktop/GAN-indiv-study/env/lib/python3.9/site-packages (from matplotlib->-r requirements.txt (line 2)) (2.8.2)\n",
      "Requirement already satisfied: numpy>=1.20 in /Users/jirayuwat/Desktop/GAN-indiv-study/env/lib/python3.9/site-packages (from matplotlib->-r requirements.txt (line 2)) (1.25.2)\n",
      "Requirement already satisfied: importlib-resources>=3.2.0 in /Users/jirayuwat/Desktop/GAN-indiv-study/env/lib/python3.9/site-packages (from matplotlib->-r requirements.txt (line 2)) (6.0.1)\n",
      "Requirement already satisfied: fonttools>=4.22.0 in /Users/jirayuwat/Desktop/GAN-indiv-study/env/lib/python3.9/site-packages (from matplotlib->-r requirements.txt (line 2)) (4.42.0)\n",
      "Requirement already satisfied: zipp>=3.1.0 in /Users/jirayuwat/Desktop/GAN-indiv-study/env/lib/python3.9/site-packages (from importlib-resources>=3.2.0->matplotlib->-r requirements.txt (line 2)) (3.16.2)\n",
      "Requirement already satisfied: six>=1.5 in /Users/jirayuwat/Desktop/GAN-indiv-study/env/lib/python3.9/site-packages (from python-dateutil>=2.7->matplotlib->-r requirements.txt (line 2)) (1.16.0)\n",
      "Requirement already satisfied: MarkupSafe>=2.0 in /Users/jirayuwat/Desktop/GAN-indiv-study/env/lib/python3.9/site-packages (from jinja2->torch==2.0.1->-r requirements.txt (line 1)) (2.1.3)\n",
      "Requirement already satisfied: mpmath>=0.19 in /Users/jirayuwat/Desktop/GAN-indiv-study/env/lib/python3.9/site-packages (from sympy->torch==2.0.1->-r requirements.txt (line 1)) (1.3.0)\n",
      "\u001b[33mWARNING: You are using pip version 21.2.4; however, version 23.2.1 is available.\n",
      "You should consider upgrading via the '/Users/jirayuwat/Desktop/GAN-indiv-study/env/bin/python3 -m pip install --upgrade pip' command.\u001b[0m\n"
     ]
    }
   ],
   "source": [
    "!pip install -r requirements.txt"
   ]
  },
  {
   "cell_type": "markdown",
   "metadata": {
    "tags": []
   },
   "source": [
    "# import lib"
   ]
  },
  {
   "cell_type": "code",
   "execution_count": 53,
   "metadata": {},
   "outputs": [],
   "source": [
    "import torch\n",
    "from torch import nn\n",
    "\n",
    "import numpy as np\n",
    "\n",
    "import matplotlib.pyplot as plt"
   ]
  },
  {
   "cell_type": "markdown",
   "metadata": {},
   "source": [
    "# First Torch model"
   ]
  },
  {
   "cell_type": "markdown",
   "metadata": {},
   "source": [
    "## mock up dataset"
   ]
  },
  {
   "cell_type": "code",
   "execution_count": 54,
   "metadata": {},
   "outputs": [],
   "source": [
    "# create 100 sample (50 for each class)\n",
    "# data is seperate with line x = 6\n",
    "## if x >= 6 -> True\n",
    "## else -> False\n",
    "\n",
    "X = [6] * 50 + [0] * 50\n",
    "y = [1] * 50 + [0] * 50\n",
    "\n",
    "noise = np.random.default_rng().random(100)\n",
    "noise *= 6\n",
    "\n",
    "X = torch.Tensor(X) + noise\n",
    "X = X.reshape(100,1).to(torch.float32)\n",
    "y = torch.Tensor(y).reshape(100,1).to(torch.float32)\n",
    "\n"
   ]
  },
  {
   "cell_type": "code",
   "execution_count": 55,
   "metadata": {},
   "outputs": [
    {
     "name": "stdout",
     "output_type": "stream",
     "text": [
      "X = torch.Size([100, 1]), <class 'torch.Tensor'>\n",
      "y = torch.Size([100, 1]), <class 'torch.Tensor'>\n",
      "\n"
     ]
    }
   ],
   "source": [
    "print(f'''\\\n",
    "X = {X.shape}, {type(X[0])}\n",
    "y = {y.shape}, {type(y[0])}\n",
    "''')"
   ]
  },
  {
   "cell_type": "markdown",
   "metadata": {},
   "source": [
    "## create model"
   ]
  },
  {
   "cell_type": "code",
   "execution_count": 56,
   "metadata": {},
   "outputs": [],
   "source": [
    "class LogisticRegression(nn.Module):\n",
    "    def __init__(self, input_size):\n",
    "        super().__init__()\n",
    "        self.log_reg = nn.Sequential(\n",
    "            nn.Linear(input_size, 1),\n",
    "            nn.Sigmoid()\n",
    "        )\n",
    "    \n",
    "    def forward(self, x):\n",
    "        ''' what happen on forward pass'''\n",
    "        return self.log_reg(x)\n",
    "    "
   ]
  },
  {
   "cell_type": "code",
   "execution_count": 57,
   "metadata": {},
   "outputs": [],
   "source": [
    "model = LogisticRegression(input_size=1) \n",
    "\n",
    "# setup loss function\n",
    "critirion = nn.BCELoss()\n",
    "\n",
    "# setup optimizer\n",
    "optimizer = torch.optim.SGD(model.parameters(),\n",
    "                            lr = 0.01)\n"
   ]
  },
  {
   "cell_type": "code",
   "execution_count": 58,
   "metadata": {},
   "outputs": [],
   "source": [
    "Loss_hist = []"
   ]
  },
  {
   "cell_type": "code",
   "execution_count": 59,
   "metadata": {},
   "outputs": [],
   "source": [
    "EPOCHS = 1000\n",
    "\n",
    "for epoch in range(EPOCHS):\n",
    "\n",
    "    # predict\n",
    "    y_pred = model(X)\n",
    "    # loss calculate\n",
    "    loss = critirion(y_pred, y)\n",
    "    # zero grad\n",
    "    optimizer.zero_grad()\n",
    "    # back propergation\n",
    "    loss.backward()\n",
    "    # step\n",
    "    optimizer.step()\n",
    "    # print\n",
    "    Loss_hist += [loss.item()]"
   ]
  },
  {
   "cell_type": "code",
   "execution_count": 60,
   "metadata": {},
   "outputs": [
    {
     "data": {
      "text/plain": [
       "[<matplotlib.lines.Line2D at 0x156148d60>]"
      ]
     },
     "execution_count": 60,
     "metadata": {},
     "output_type": "execute_result"
    },
    {
     "data": {
      "image/png": "[encoded data removed]",
      "text/plain": [
       "<Figure size 640x480 with 1 Axes>"
      ]
     },
     "metadata": {},
     "output_type": "display_data"
    }
   ],
   "source": [
    "plt.plot(range(EPOCHS),Loss_hist)"
   ]
  },
  {
   "cell_type": "code",
   "execution_count": null,
   "metadata": {},
   "outputs": [],
   "source": []
  }
 ],
 "metadata": {
  "kernelspec": {
   "display_name": "Python 3",
   "language": "python",
   "name": "python3"
  },
  "language_info": {
   "codemirror_mode": {
    "name": "ipython",
    "version": 3
   },
   "file_extension": ".py",
   "mimetype": "text/x-python",
   "name": "python",
   "nbconvert_exporter": "python",
   "pygments_lexer": "ipython3",
   "version": "3.9.6"
  },
  "orig_nbformat": 4
 },
 "nbformat": 4,
 "nbformat_minor": 2
}
