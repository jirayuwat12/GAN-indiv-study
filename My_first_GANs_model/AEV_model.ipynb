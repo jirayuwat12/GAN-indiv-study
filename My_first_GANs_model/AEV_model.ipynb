{
 "cells": [
  {
   "cell_type": "markdown",
   "metadata": {},
   "source": [
    "# install necessary lib"
   ]
  },
  {
   "cell_type": "code",
   "execution_count": 172,
   "metadata": {},
   "outputs": [
    {
     "name": "stdout",
     "output_type": "stream",
     "text": [
      "Requirement already satisfied: torch==2.0.1 in /Users/jirayuwat/Desktop/GAN-indiv-study/env/lib/python3.9/site-packages (from -r requirements.txt (line 1)) (2.0.1)\n",
      "Requirement already satisfied: matplotlib in /Users/jirayuwat/Desktop/GAN-indiv-study/env/lib/python3.9/site-packages (from -r requirements.txt (line 2)) (3.7.2)\n",
      "Requirement already satisfied: torchvision in /Users/jirayuwat/Desktop/GAN-indiv-study/env/lib/python3.9/site-packages (from -r requirements.txt (line 3)) (0.15.2)\n",
      "Requirement already satisfied: torchsummary in /Users/jirayuwat/Desktop/GAN-indiv-study/env/lib/python3.9/site-packages (from -r requirements.txt (line 4)) (1.5.1)\n",
      "Requirement already satisfied: tqdm in /Users/jirayuwat/Desktop/GAN-indiv-study/env/lib/python3.9/site-packages (from -r requirements.txt (line 5)) (4.66.1)\n",
      "Requirement already satisfied: numpy in /Users/jirayuwat/Desktop/GAN-indiv-study/env/lib/python3.9/site-packages (from -r requirements.txt (line 6)) (1.25.2)\n",
      "Requirement already satisfied: networkx in /Users/jirayuwat/Desktop/GAN-indiv-study/env/lib/python3.9/site-packages (from torch==2.0.1->-r requirements.txt (line 1)) (3.1)\n",
      "Requirement already satisfied: filelock in /Users/jirayuwat/Desktop/GAN-indiv-study/env/lib/python3.9/site-packages (from torch==2.0.1->-r requirements.txt (line 1)) (3.12.2)\n",
      "Requirement already satisfied: sympy in /Users/jirayuwat/Desktop/GAN-indiv-study/env/lib/python3.9/site-packages (from torch==2.0.1->-r requirements.txt (line 1)) (1.12)\n",
      "Requirement already satisfied: typing-extensions in /Users/jirayuwat/Desktop/GAN-indiv-study/env/lib/python3.9/site-packages (from torch==2.0.1->-r requirements.txt (line 1)) (4.7.1)\n",
      "Requirement already satisfied: jinja2 in /Users/jirayuwat/Desktop/GAN-indiv-study/env/lib/python3.9/site-packages (from torch==2.0.1->-r requirements.txt (line 1)) (3.1.2)\n",
      "Requirement already satisfied: fonttools>=4.22.0 in /Users/jirayuwat/Desktop/GAN-indiv-study/env/lib/python3.9/site-packages (from matplotlib->-r requirements.txt (line 2)) (4.42.0)\n",
      "Requirement already satisfied: pillow>=6.2.0 in /Users/jirayuwat/Desktop/GAN-indiv-study/env/lib/python3.9/site-packages (from matplotlib->-r requirements.txt (line 2)) (10.0.0)\n",
      "Requirement already satisfied: packaging>=20.0 in /Users/jirayuwat/Desktop/GAN-indiv-study/env/lib/python3.9/site-packages (from matplotlib->-r requirements.txt (line 2)) (23.1)\n",
      "Requirement already satisfied: contourpy>=1.0.1 in /Users/jirayuwat/Desktop/GAN-indiv-study/env/lib/python3.9/site-packages (from matplotlib->-r requirements.txt (line 2)) (1.1.0)\n",
      "Requirement already satisfied: python-dateutil>=2.7 in /Users/jirayuwat/Desktop/GAN-indiv-study/env/lib/python3.9/site-packages (from matplotlib->-r requirements.txt (line 2)) (2.8.2)\n",
      "Requirement already satisfied: kiwisolver>=1.0.1 in /Users/jirayuwat/Desktop/GAN-indiv-study/env/lib/python3.9/site-packages (from matplotlib->-r requirements.txt (line 2)) (1.4.4)\n",
      "Requirement already satisfied: cycler>=0.10 in /Users/jirayuwat/Desktop/GAN-indiv-study/env/lib/python3.9/site-packages (from matplotlib->-r requirements.txt (line 2)) (0.11.0)\n",
      "Requirement already satisfied: importlib-resources>=3.2.0 in /Users/jirayuwat/Desktop/GAN-indiv-study/env/lib/python3.9/site-packages (from matplotlib->-r requirements.txt (line 2)) (6.0.1)\n",
      "Requirement already satisfied: pyparsing<3.1,>=2.3.1 in /Users/jirayuwat/Desktop/GAN-indiv-study/env/lib/python3.9/site-packages (from matplotlib->-r requirements.txt (line 2)) (3.0.9)\n",
      "Requirement already satisfied: requests in /Users/jirayuwat/Desktop/GAN-indiv-study/env/lib/python3.9/site-packages (from torchvision->-r requirements.txt (line 3)) (2.31.0)\n",
      "Requirement already satisfied: zipp>=3.1.0 in /Users/jirayuwat/Desktop/GAN-indiv-study/env/lib/python3.9/site-packages (from importlib-resources>=3.2.0->matplotlib->-r requirements.txt (line 2)) (3.16.2)\n",
      "Requirement already satisfied: six>=1.5 in /Users/jirayuwat/Desktop/GAN-indiv-study/env/lib/python3.9/site-packages (from python-dateutil>=2.7->matplotlib->-r requirements.txt (line 2)) (1.16.0)\n",
      "Requirement already satisfied: MarkupSafe>=2.0 in /Users/jirayuwat/Desktop/GAN-indiv-study/env/lib/python3.9/site-packages (from jinja2->torch==2.0.1->-r requirements.txt (line 1)) (2.1.3)\n",
      "Requirement already satisfied: certifi>=2017.4.17 in /Users/jirayuwat/Desktop/GAN-indiv-study/env/lib/python3.9/site-packages (from requests->torchvision->-r requirements.txt (line 3)) (2023.7.22)\n",
      "Requirement already satisfied: idna<4,>=2.5 in /Users/jirayuwat/Desktop/GAN-indiv-study/env/lib/python3.9/site-packages (from requests->torchvision->-r requirements.txt (line 3)) (3.4)\n",
      "Requirement already satisfied: urllib3<3,>=1.21.1 in /Users/jirayuwat/Desktop/GAN-indiv-study/env/lib/python3.9/site-packages (from requests->torchvision->-r requirements.txt (line 3)) (2.0.4)\n",
      "Requirement already satisfied: charset-normalizer<4,>=2 in /Users/jirayuwat/Desktop/GAN-indiv-study/env/lib/python3.9/site-packages (from requests->torchvision->-r requirements.txt (line 3)) (3.2.0)\n",
      "Requirement already satisfied: mpmath>=0.19 in /Users/jirayuwat/Desktop/GAN-indiv-study/env/lib/python3.9/site-packages (from sympy->torch==2.0.1->-r requirements.txt (line 1)) (1.3.0)\n",
      "\u001b[33mWARNING: You are using pip version 21.2.4; however, version 23.2.1 is available.\n",
      "You should consider upgrading via the '/Users/jirayuwat/Desktop/GAN-indiv-study/env/bin/python3 -m pip install --upgrade pip' command.\u001b[0m\n"
     ]
    }
   ],
   "source": [
    "!pip install -r requirements.txt"
   ]
  },
  {
   "cell_type": "markdown",
   "metadata": {},
   "source": [
    "# import lib"
   ]
  },
  {
   "cell_type": "code",
   "execution_count": 197,
   "metadata": {},
   "outputs": [],
   "source": [
    "import torch\n",
    "from torch import nn\n",
    "\n",
    "from torchsummary import summary\n",
    "from torchvision import transforms, datasets\n",
    "\n",
    "from tqdm import tqdm\n",
    "\n",
    "import matplotlib.pyplot as plt\n",
    "\n",
    "import random\n",
    "\n",
    "DEVICE = 'cuda' if torch.cuda.is_available() else 'cpu'"
   ]
  },
  {
   "cell_type": "markdown",
   "metadata": {},
   "source": [
    "# load data\n",
    "\n",
    "- load as data loader \n",
    "- batch size = 128\n",
    "- image pixel value [0,1]\n",
    "- only 1 channel"
   ]
  },
  {
   "cell_type": "code",
   "execution_count": 174,
   "metadata": {},
   "outputs": [],
   "source": [
    "SEED = 1\n",
    "BATCH_SIZE = 128\n",
    "TEST_BATCH_SIZE = 128\n",
    "torch.manual_seed(SEED)\n",
    "train_loader = torch.utils.data.DataLoader (datasets.MNIST('dataset/', \n",
    "                                                           train=True, \n",
    "                                                           download=True,\n",
    "                                                           transform= transforms.Compose([transforms.ToTensor()])\n",
    "                                                           ),\n",
    "                                            batch_size = BATCH_SIZE, \n",
    "                                            shuffle=True)\n",
    "\n",
    "test_loader = torch.utils.data.DataLoader(datasets.MNIST('dataset/', \n",
    "                                                         train=False, \n",
    "                                                         transform=transforms.Compose([transforms.ToTensor()])\n",
    "                                                        ), \n",
    "                                          batch_size = TEST_BATCH_SIZE, \n",
    "                                          shuffle=True)"
   ]
  },
  {
   "cell_type": "code",
   "execution_count": 175,
   "metadata": {},
   "outputs": [
    {
     "name": "stdout",
     "output_type": "stream",
     "text": [
      "tensor(0.) tensor(1.)\n",
      "tensor(0.) tensor(1.)\n",
      "tensor(0.) tensor(1.)\n",
      "tensor(0.) tensor(1.)\n",
      "tensor(0.) tensor(1.)\n",
      "tensor(0.) tensor(1.)\n",
      "tensor(0.) tensor(1.)\n",
      "tensor(0.) tensor(0.9961)\n",
      "tensor(0.) tensor(1.)\n"
     ]
    },
    {
     "data": {
      "image/png": "[encoded data removed]",
      "text/plain": [
       "<Figure size 640x480 with 9 Axes>"
      ]
     },
     "metadata": {},
     "output_type": "display_data"
    }
   ],
   "source": [
    "img, label = next(iter(train_loader))\n",
    "import random\n",
    "for i in range(9):\n",
    "    idx = random.randint(0,63)\n",
    "    plt.subplot(3, 3, i+1)\n",
    "    plt.imshow(img[idx].reshape(28,28,1))\n",
    "    plt.axis('off')\n",
    "    plt.title(label[idx].item())\n",
    "    print(torch.min(img[idx]), torch.max(img[idx]))\n"
   ]
  },
  {
   "cell_type": "markdown",
   "metadata": {},
   "source": [
    "# Train controller"
   ]
  },
  {
   "cell_type": "code",
   "execution_count": 199,
   "metadata": {},
   "outputs": [],
   "source": [
    "TRAIN_AE = False"
   ]
  },
  {
   "cell_type": "markdown",
   "metadata": {},
   "source": [
    "# create AE model\n",
    "- latent = 20d\n",
    "- 60 epoch\n",
    "- optimizer = Adam\n",
    "- loss = MSE\n",
    "```\n",
    "----------------------------------------------------------------\n",
    "        Layer (type)               Output Shape         Param #\n",
    "================================================================\n",
    "           Flatten-1                  [-1, 784]               0\n",
    "              ReLU-2                  [-1, 784]               0\n",
    "            Linear-3                 [-1, 1000]         785,000\n",
    "              ReLU-4                 [-1, 1000]               0\n",
    "            Linear-5                 [-1, 1000]       1,001,000\n",
    "              ReLU-6                 [-1, 1000]               0\n",
    "            Linear-7                 [-1, 1000]       1,001,000\n",
    "              ReLU-8                 [-1, 1000]               0\n",
    "            Linear-9                   [-1, 20]          20,020\n",
    "           Linear-10                 [-1, 1000]          21,000\n",
    "             ReLU-11                 [-1, 1000]               0\n",
    "           Linear-12                 [-1, 1000]       1,001,000\n",
    "             ReLU-13                 [-1, 1000]               0\n",
    "           Linear-14                 [-1, 1000]       1,001,000\n",
    "             ReLU-15                 [-1, 1000]               0\n",
    "           Linear-16                  [-1, 784]         784,784\n",
    "             ReLU-17                  [-1, 784]               0\n",
    "        Unflatten-18            [-1, 1, 28, 28]               0\n",
    "          Sigmoid-19            [-1, 1, 28, 28]               0\n",
    "================================================================\n",
    "Total params: 5,614,804\n",
    "```\n",
    "![result image](./AE_60epochs_20d-latent.png)"
   ]
  },
  {
   "cell_type": "code",
   "execution_count": 202,
   "metadata": {},
   "outputs": [],
   "source": [
    "LATENT_SIZE = 20\n",
    "IMAGE_SIZE = (1, 28, 28)"
   ]
  },
  {
   "cell_type": "code",
   "execution_count": 203,
   "metadata": {},
   "outputs": [
    {
     "name": "stdout",
     "output_type": "stream",
     "text": [
      "----------------------------------------------------------------\n",
      "        Layer (type)               Output Shape         Param #\n",
      "================================================================\n",
      "           Flatten-1                  [-1, 784]               0\n",
      "              ReLU-2                  [-1, 784]               0\n",
      "            Linear-3                 [-1, 1000]         785,000\n",
      "              ReLU-4                 [-1, 1000]               0\n",
      "            Linear-5                 [-1, 1000]       1,001,000\n",
      "              ReLU-6                 [-1, 1000]               0\n",
      "            Linear-7                 [-1, 1000]       1,001,000\n",
      "              ReLU-8                 [-1, 1000]               0\n",
      "            Linear-9                   [-1, 20]          20,020\n",
      "           Linear-10                 [-1, 1000]          21,000\n",
      "             ReLU-11                 [-1, 1000]               0\n",
      "           Linear-12                 [-1, 1000]       1,001,000\n",
      "             ReLU-13                 [-1, 1000]               0\n",
      "           Linear-14                 [-1, 1000]       1,001,000\n",
      "             ReLU-15                 [-1, 1000]               0\n",
      "           Linear-16                  [-1, 784]         784,784\n",
      "             ReLU-17                  [-1, 784]               0\n",
      "        Unflatten-18            [-1, 1, 28, 28]               0\n",
      "          Sigmoid-19            [-1, 1, 28, 28]               0\n",
      "================================================================\n",
      "Total params: 5,614,804\n",
      "Trainable params: 5,614,804\n",
      "Non-trainable params: 0\n",
      "----------------------------------------------------------------\n",
      "Input size (MB): 0.00\n",
      "Forward/backward pass size (MB): 0.13\n",
      "Params size (MB): 21.42\n",
      "Estimated Total Size (MB): 21.55\n",
      "----------------------------------------------------------------\n"
     ]
    },
    {
     "name": "stderr",
     "output_type": "stream",
     "text": [
      "/var/folders/5g/160h3py942nb4pbbgy0dhtz40000gn/T/ipykernel_27043/3606350680.py:3: UserWarning: nn.init.xavier_uniform is now deprecated in favor of nn.init.xavier_uniform_.\n",
      "  torch.nn.init.xavier_uniform(m.weight)\n"
     ]
    }
   ],
   "source": [
    "def init_weights(m):\n",
    "    if isinstance(m, nn.Linear):\n",
    "        torch.nn.init.xavier_uniform(m.weight)\n",
    "        m.bias.data.fill_(0.01)\n",
    "\n",
    "class AE_model(nn.Module):\n",
    "    \n",
    "    def __init__(self, latent_size):\n",
    "        super().__init__()\n",
    "        self.encoder = nn.Sequential(\n",
    "            nn.Flatten(),\n",
    "            nn.ReLU(),\n",
    "            nn.Linear(IMAGE_SIZE[0] * IMAGE_SIZE[1] * IMAGE_SIZE[2], 1000),\n",
    "            nn.ReLU(),\n",
    "            nn.Linear(1000, 1000),\n",
    "            nn.ReLU(),\n",
    "            nn.Linear(1000, 1000),\n",
    "            nn.ReLU(),\n",
    "            nn.Linear(1000, latent_size)\n",
    "        ).to(DEVICE)\n",
    "        self.encoder.apply(init_weights)\n",
    "\n",
    "        self.decoder = nn.Sequential(\n",
    "            nn.Linear(latent_size, 1000),\n",
    "            nn.ReLU(),\n",
    "            nn.Linear(1000, 1000),\n",
    "            nn.ReLU(),\n",
    "            nn.Linear(1000, 1000),\n",
    "            nn.ReLU(),\n",
    "            nn.Linear(1000, IMAGE_SIZE[0] * IMAGE_SIZE[1] * IMAGE_SIZE[2]),\n",
    "            nn.ReLU(),\n",
    "            nn.Unflatten(1, IMAGE_SIZE),\n",
    "            nn.Sigmoid(),\n",
    "        ).to(DEVICE)\n",
    "        self.decoder.apply(init_weights)\n",
    "    \n",
    "    def forward(self, x_in):\n",
    "        \n",
    "        x_in = self.encoder(x_in)\n",
    "        x_in = self.decoder(x_in)\n",
    "\n",
    "        return x_in\n",
    "    \n",
    "summary(AE_model(LATENT_SIZE), IMAGE_SIZE)\n",
    "\n",
    "ae_model = AE_model(LATENT_SIZE).to(DEVICE)\n",
    "ae_loss_fn = nn.MSELoss()\n",
    "\n",
    "ae_optimizer = torch.optim.Adam(params=ae_model.parameters(), lr = 5e-5)"
   ]
  },
  {
   "cell_type": "markdown",
   "metadata": {},
   "source": [
    "## train model"
   ]
  },
  {
   "cell_type": "code",
   "execution_count": 200,
   "metadata": {},
   "outputs": [
    {
     "name": "stdout",
     "output_type": "stream",
     "text": [
      "Epoch: 1/1(0)\t: Loss = 0.23461632430553436\n",
      "Epoch: 1/1(10)\t: Loss = 0.2313583940267563\n",
      "Epoch: 1/1(20)\t: Loss = 0.2309824824333191\n",
      "Epoch: 1/1(30)\t: Loss = 0.23133769631385803\n",
      "Epoch: 1/1(40)\t: Loss = 0.23143567144870758\n",
      "Epoch: 1/1(50)\t: Loss = 0.2312895655632019\n",
      "Epoch: 1/1(60)\t: Loss = 0.2318798303604126\n",
      "Epoch: 1/1(70)\t: Loss = 0.23089054226875305\n",
      "Epoch: 1/1(80)\t: Loss = 0.23071907460689545\n",
      "Epoch: 1/1(90)\t: Loss = 0.23156437277793884\n",
      "Epoch: 1/1(100)\t: Loss = 0.23130226135253906\n",
      "Epoch: 1/1(110)\t: Loss = 0.2307811826467514\n",
      "Epoch: 1/1(120)\t: Loss = 0.23066146671772003\n",
      "Epoch: 1/1(130)\t: Loss = 0.23029601573944092\n",
      "Epoch: 1/1(140)\t: Loss = 0.22952806949615479\n",
      "Epoch: 1/1(150)\t: Loss = 0.22992998361587524\n",
      "Epoch: 1/1(160)\t: Loss = 0.22945727407932281\n",
      "Epoch: 1/1(170)\t: Loss = 0.23069357872009277\n",
      "Epoch: 1/1(180)\t: Loss = 0.22966593503952026\n",
      "Epoch: 1/1(190)\t: Loss = 0.22931908071041107\n",
      "Epoch: 1/1(200)\t: Loss = 0.22990892827510834\n",
      "Epoch: 1/1(210)\t: Loss = 0.22961211204528809\n",
      "Epoch: 1/1(220)\t: Loss = 0.2294730544090271\n",
      "Epoch: 1/1(230)\t: Loss = 0.22954033315181732\n",
      "Epoch: 1/1(240)\t: Loss = 0.2300022840499878\n",
      "Epoch: 1/1(250)\t: Loss = 0.22925923764705658\n",
      "Epoch: 1/1(260)\t: Loss = 0.2294754832983017\n",
      "Epoch: 1/1(270)\t: Loss = 0.22906282544136047\n",
      "Epoch: 1/1(280)\t: Loss = 0.22980262339115143\n",
      "Epoch: 1/1(290)\t: Loss = 0.22937576472759247\n",
      "Epoch: 1/1(300)\t: Loss = 0.2298673689365387\n",
      "Epoch: 1/1(310)\t: Loss = 0.2293543964624405\n",
      "Epoch: 1/1(320)\t: Loss = 0.2292681783437729\n",
      "Epoch: 1/1(330)\t: Loss = 0.23091426491737366\n",
      "Epoch: 1/1(340)\t: Loss = 0.2295430302619934\n",
      "Epoch: 1/1(350)\t: Loss = 0.22913432121276855\n",
      "Epoch: 1/1(360)\t: Loss = 0.22993400692939758\n",
      "Epoch: 1/1(370)\t: Loss = 0.22987276315689087\n",
      "Epoch: 1/1(380)\t: Loss = 0.22846317291259766\n",
      "Epoch: 1/1(390)\t: Loss = 0.22936317324638367\n",
      "Epoch: 1/1(400)\t: Loss = 0.23005637526512146\n",
      "Epoch: 1/1(410)\t: Loss = 0.22909998893737793\n",
      "Epoch: 1/1(420)\t: Loss = 0.2297135591506958\n",
      "Epoch: 1/1(430)\t: Loss = 0.22964949905872345\n",
      "Epoch: 1/1(440)\t: Loss = 0.23007901012897491\n",
      "Epoch: 1/1(450)\t: Loss = 0.22984078526496887\n",
      "Epoch: 1/1(460)\t: Loss = 0.23006457090377808\n"
     ]
    }
   ],
   "source": [
    "EPOCHS = 60 if TRAIN_AE else 0\n",
    "\n",
    "for epoch in range(EPOCHS):\n",
    "    epoch += 1\n",
    "    for batch_idx, (x_train, y_train) in enumerate(train_loader):\n",
    "        x_train = x_train.to(DEVICE)\n",
    "        y_train = y_train.to(DEVICE)\n",
    "        \n",
    "        ae_model.train()\n",
    "        x_pred = ae_model(x_train)\n",
    "        loss = ae_loss_fn(x_pred, x_train)\n",
    "        ae_optimizer.zero_grad()\n",
    "        loss.backward()\n",
    "        ae_optimizer.step()\n",
    "\n",
    "        ae_model.eval()\n",
    "        with torch.inference_mode():\n",
    "            if batch_idx % 10 == 0:\n",
    "                print(f'Epoch: {epoch}/{EPOCHS}({batch_idx})\\t: Loss = {loss.item()}')\n",
    "                \n"
   ]
  },
  {
   "cell_type": "code",
   "execution_count": 201,
   "metadata": {},
   "outputs": [
    {
     "data": {
      "image/png": "[encoded data removed]",
      "text/plain": [
       "<Figure size 640x480 with 6 Axes>"
      ]
     },
     "metadata": {},
     "output_type": "display_data"
    }
   ],
   "source": [
    "img, _ = next(iter(train_loader))\n",
    "img = img.to(DEVICE)\n",
    "\n",
    "for i in range(3):\n",
    "    idx = random.randint(0, BATCH_SIZE - 1)\n",
    "    x_pred = ae_model(img[idx]).to('cpu').detach().numpy().reshape((28, 28, 1))\n",
    "    plt.subplot(3, 2, i*2 + 1)\n",
    "    plt.title('real')\n",
    "    plt.imshow(img[idx].to('cpu').reshape(28, 28, 1), vmin=0, vmax=1, cmap='gray')\n",
    "    plt.subplot(3, 2, i*2 + 2)\n",
    "    plt.title('model pred.')\n",
    "    plt.imshow(x_pred, vmin=0, vmax=1, cmap='gray')\n"
   ]
  },
  {
   "cell_type": "markdown",
   "metadata": {},
   "source": [
    "# create VAE model\n",
    "\n",
    "- ref vdo : [youtube](https://www.youtube.com/watch?v=VELQT1-hILo)\n",
    "- ref paper : [arxiv](https://arxiv.org/abs/1312.6114)\n"
   ]
  },
  {
   "cell_type": "code",
   "execution_count": null,
   "metadata": {},
   "outputs": [],
   "source": []
  }
 ],
 "metadata": {
  "kernelspec": {
   "display_name": "env",
   "language": "python",
   "name": "python3"
  },
  "language_info": {
   "codemirror_mode": {
    "name": "ipython",
    "version": 3
   },
   "file_extension": ".py",
   "mimetype": "text/x-python",
   "name": "python",
   "nbconvert_exporter": "python",
   "pygments_lexer": "ipython3",
   "version": "3.9.6"
  },
  "orig_nbformat": 4
 },
 "nbformat": 4,
 "nbformat_minor": 2
}
