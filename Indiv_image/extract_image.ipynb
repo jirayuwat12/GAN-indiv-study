{
 "cells": [
  {
   "cell_type": "markdown",
   "metadata": {},
   "source": [
    "# Import ness. lib"
   ]
  },
  {
   "cell_type": "code",
   "execution_count": 79,
   "metadata": {},
   "outputs": [
    {
     "name": "stdout",
     "output_type": "stream",
     "text": [
      "Requirement already satisfied: opencv-python in c:\\users\\jiray\\appdata\\local\\programs\\python\\python310\\lib\\site-packages (4.6.0.66)\n",
      "Requirement already satisfied: numpy>=1.14.5 in c:\\users\\jiray\\appdata\\local\\programs\\python\\python310\\lib\\site-packages (from opencv-python) (1.23.5)\n",
      "Note: you may need to restart the kernel to use updated packages.\n"
     ]
    },
    {
     "name": "stderr",
     "output_type": "stream",
     "text": [
      "WARNING: You are using pip version 21.2.3; however, version 23.3.1 is available.\n",
      "You should consider upgrading via the 'c:\\Users\\jiray\\AppData\\Local\\Programs\\Python\\Python310\\python.exe -m pip install --upgrade pip' command.\n"
     ]
    }
   ],
   "source": [
    "%pip install opencv-python"
   ]
  },
  {
   "cell_type": "code",
   "execution_count": 7,
   "metadata": {},
   "outputs": [],
   "source": [
    "import cv2\n",
    "import os\n",
    "import matplotlib.pyplot as plt\n",
    "import re\n",
    "import numpy as np\n",
    "from tqdm import tqdm\n",
    "import pickle\n",
    "import datetime as dt\n",
    "import time\n",
    "\n",
    "\n",
    "import pandas as pd"
   ]
  },
  {
   "cell_type": "markdown",
   "metadata": {},
   "source": [
    "# Init constants"
   ]
  },
  {
   "cell_type": "code",
   "execution_count": 10,
   "metadata": {},
   "outputs": [],
   "source": [
    "CLIP_LIST = []\n",
    "# CLIP_LIST = ['E:/indiv_vdo/2021_0607_184742_013.MOV']\n",
    "\n",
    "IMAGE_POOL_PATH = 'F:/image_pool' # path to store images that come from extract image from vdo\n",
    "DICT_PATH = 'F:/dict' # path to store dictionary from analyze image function\n"
   ]
  },
  {
   "cell_type": "markdown",
   "metadata": {},
   "source": [
    "# Create extract function"
   ]
  },
  {
   "cell_type": "code",
   "execution_count": 11,
   "metadata": {},
   "outputs": [],
   "source": [
    "def fetch_and_show_images(clip_path, \n",
    "                          save_dir, \n",
    "                          capture_interval=20,\n",
    "                          replace=False,\n",
    "                          verbose=True\n",
    "                          ):\n",
    "    \"\"\"\n",
    "    Fetch images from a clip, save as individual files, then visualize using subplots.\n",
    "    \n",
    "    Parameters:\n",
    "    - clip_path (str): Path to the video clip.\n",
    "    - save_dir (str): Folder to save the fetched images.\n",
    "    - capture_interval (int): Span to fetch images. Default is 20 seconds.\n",
    "    - replace (bool): If True, replace existing images with the same name. Default is False.\n",
    "    - verbose (bool): If True, print out the process. Default is True.\n",
    "    \"\"\"\n",
    "    clip_name = clip_path.split('/')[-1].split('.')[0]\n",
    "\n",
    "    # Verify if save directory exists\n",
    "    if not os.path.exists(save_dir):\n",
    "        os.makedirs(save_dir)\n",
    "    # Initialize video reader\n",
    "    clip_reader = cv2.VideoCapture(clip_path)\n",
    "    frame_total = int(clip_reader.get(cv2.CAP_PROP_FRAME_COUNT))\n",
    "    fps = int(clip_reader.get(cv2.CAP_PROP_FPS))\n",
    "    duration = frame_total // fps\n",
    "\n",
    "    if verbose:\n",
    "        print(f\"Extracting {clip_name}\")\n",
    "        print(f\"Frames available in the clip: {frame_total} ({duration} sec.)\")\n",
    "        print(f\"Fetching every {capture_interval} second or {fps * capture_interval} frames\")\n",
    "    capture_interval *= fps\n",
    "\n",
    "    current_frame = 0\n",
    "    fetched_count = 0\n",
    "\n",
    "    while True:\n",
    "        status, image = clip_reader.read()\n",
    "\n",
    "        # If reading frame fails, exit the loop\n",
    "        if not status:\n",
    "            break\n",
    "        \n",
    "        # Switch from BGR (OpenCV default) to RGB for visualization with matplotlib\n",
    "        image_rgb = cv2.cvtColor(image, cv2.COLOR_BGR2RGB)\n",
    "\n",
    "        if current_frame % capture_interval == 0:\n",
    "            image_filename = f\"{clip_name}-{int(current_frame/fps)}.png\"\n",
    "            image_filepath = save_dir + '/' + image_filename\n",
    "            \n",
    "            if not os.path.exists(image_filepath) or replace:\n",
    "                cv2.imwrite(image_filepath, image)\n",
    "                if verbose:\n",
    "                    print(f\"Fetched frame {current_frame}({current_frame / fps}) as {image_filename}\")\n",
    "            elif verbose:\n",
    "                print(f\"Image {image_filename} already exists, skipping...\")\n",
    "            fetched_count += 1\n",
    "\n",
    "        current_frame += 1\n",
    "\n",
    "    clip_reader.release()\n",
    "\n",
    "    if verbose:\n",
    "        print(f\"Process complete! Fetched {fetched_count} frames from the clip.\")\n",
    "\n"
   ]
  },
  {
   "cell_type": "markdown",
   "metadata": {},
   "source": [
    "# Extract info from image"
   ]
  },
  {
   "cell_type": "markdown",
   "metadata": {},
   "source": [
    "## Extract image form VDO to image pool"
   ]
  },
  {
   "cell_type": "code",
   "execution_count": 12,
   "metadata": {},
   "outputs": [
    {
     "name": "stderr",
     "output_type": "stream",
     "text": [
      "0it [00:00, ?it/s]\n"
     ]
    }
   ],
   "source": [
    "for clip_path in CLIP_LIST:\n",
    "    fetch_and_show_images(clip_path=clip_path,\n",
    "                          save_dir=IMAGE_POOL_PATH,\n",
    "                          capture_interval=10,\n",
    "                          replace=False,\n",
    "                          verbose=True\n",
    "                        )"
   ]
  },
  {
   "cell_type": "markdown",
   "metadata": {},
   "source": [
    "## Extract info from image pool\n",
    "1. date and time each image from image pool\n",
    "1. average intensity each image from image pool\n",
    "1. label to night or day each image (after 6pm to 6am is night, other is day)"
   ]
  },
  {
   "cell_type": "code",
   "execution_count": 13,
   "metadata": {},
   "outputs": [],
   "source": [
    "# create directory if it does not exist\n",
    "if not os.path.exists(DICT_PATH):\n",
    "    os.makedirs(DICT_PATH)\n",
    "\n",
    "# create empty dictionary if file does not exist\n",
    "if not os.path.exists(DICT_PATH + '/info_dict.pkl'):\n",
    "    with open(DICT_PATH + '/info_dict.pkl', 'wb') as f:\n",
    "        pickle.dump({}, f)\n",
    "\n",
    "# read info dict\n",
    "with open(DICT_PATH + '/info_dict.pkl', 'rb') as f:\n",
    "    info_dict = pickle.load(f)\n"
   ]
  },
  {
   "cell_type": "code",
   "execution_count": 14,
   "metadata": {},
   "outputs": [],
   "source": [
    "def get_datetime(img):\n",
    "    '''\n",
    "    Get datetime from image name\n",
    "    on assumtion that file name is on format: 'yyyy_mmdd_hhmmss_fff-t.png'\n",
    "    which\n",
    "        yyyy_mmdd_hhmmss_fff is started record datetime\n",
    "        t is time from started record datetime (sec.)\n",
    "    '''\n",
    "    \n",
    "    # remove file extension\n",
    "    img = img.split('.')[0]\n",
    "\n",
    "    # get datetime from file name\n",
    "    start_record_datetime = img.split('-')[0]\n",
    "    start_record_datetime = dt.datetime.strptime(start_record_datetime, '%Y_%m%d_%H%M%S_%f')\n",
    "\n",
    "    # get time from started record datetime\n",
    "    time_from_start_record = img.split('-')[1]\n",
    "    time_from_start_record = dt.timedelta(seconds=int(time_from_start_record))\n",
    "\n",
    "    # get datetime from image\n",
    "    img_datetime = start_record_datetime + time_from_start_record\n",
    "\n",
    "    return img_datetime\n"
   ]
  },
  {
   "cell_type": "code",
   "execution_count": 18,
   "metadata": {},
   "outputs": [
    {
     "name": "stderr",
     "output_type": "stream",
     "text": [
      "Processing 2021_0607_184742_013-2630.png: 100%|██████████| 264/264 [00:06<00:00, 41.05image/s]\n"
     ]
    }
   ],
   "source": [
    "image_name_list = os.listdir(IMAGE_POOL_PATH)\n",
    "\n",
    "looper = tqdm(image_name_list, unit='image')\n",
    "for image_name in looper:\n",
    "    looper.set_description(f'Processing {image_name}')\n",
    "\n",
    "    if image_name not in info_dict:\n",
    "        info_dict[image_name] = dict()\n",
    "    \n",
    "    ## get datetime from image\n",
    "    img_datetime = get_datetime(image_name)\n",
    "    \n",
    "    info_dict[image_name]['datetime'] = img_datetime\n",
    "\n",
    "    ## get avg intensity\n",
    "    gray_image = cv2.imread(IMAGE_POOL_PATH + '/' + image_name, cv2.IMREAD_GRAYSCALE)\n",
    "    avg_intensity = np.mean(gray_image)\n",
    "    \n",
    "    info_dict[image_name]['avg_intensity'] = avg_intensity\n",
    "\n",
    "    ## get original vdo name\n",
    "    info_dict[image_name]['vdo_name'] = image_name.split('-')[0] + '.MOV'\n",
    "\n",
    "    ## label it's day or night(7pm - 6am)\n",
    "    if img_datetime.hour >= 19 or img_datetime.hour <= 6:\n",
    "        info_dict[image_name]['day_night'] = 'night'\n",
    "    else:\n",
    "        info_dict[image_name]['day_night'] = 'day'\n",
    "\n",
    "# save info_dict\n",
    "with open(DICT_PATH + '/info_dict.pkl', 'wb') as f:\n",
    "    pickle.dump(info_dict, f)"
   ]
  },
  {
   "cell_type": "code",
   "execution_count": 19,
   "metadata": {},
   "outputs": [
    {
     "data": {
      "text/plain": [
       "{'datetime': datetime.datetime(2021, 6, 7, 18, 47, 42, 13000),\n",
       " 'avg_intensity': 58.359539930555556,\n",
       " 'vdo_name': '2021_0607_184742_013.MOV',\n",
       " 'day_night': 'day'}"
      ]
     },
     "execution_count": 19,
     "metadata": {},
     "output_type": "execute_result"
    }
   ],
   "source": [
    "info_dict['2021_0607_184742_013-0.png']"
   ]
  }
 ],
 "metadata": {
  "kernelspec": {
   "display_name": "env",
   "language": "python",
   "name": "python3"
  },
  "language_info": {
   "codemirror_mode": {
    "name": "ipython",
    "version": 3
   },
   "file_extension": ".py",
   "mimetype": "text/x-python",
   "name": "python",
   "nbconvert_exporter": "python",
   "pygments_lexer": "ipython3",
   "version": "3.6.13"
  }
 },
 "nbformat": 4,
 "nbformat_minor": 2
}
