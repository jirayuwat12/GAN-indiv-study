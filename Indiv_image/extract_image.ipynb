{
 "cells": [
  {
   "cell_type": "markdown",
   "metadata": {},
   "source": [
    "# Import ness. lib"
   ]
  },
  {
   "cell_type": "code",
   "execution_count": 1,
   "metadata": {},
   "outputs": [
    {
     "name": "stdout",
     "output_type": "stream",
     "text": [
      "Requirement already satisfied: opencv-python in c:\\users\\jiray\\.conda\\envs\\augan\\lib\\site-packages (3.4.13.47)Note: you may need to restart the kernel to use updated packages.\n",
      "Requirement already satisfied: numpy>=1.13.3 in c:\\users\\jiray\\.conda\\envs\\augan\\lib\\site-packages (from opencv-python) (1.19.2)\n",
      "\n"
     ]
    }
   ],
   "source": [
    "%pip install opencv-python"
   ]
  },
  {
   "cell_type": "code",
   "execution_count": 1,
   "metadata": {},
   "outputs": [],
   "source": [
    "import cv2\n",
    "import os\n",
    "import numpy as np\n",
    "from tqdm import tqdm\n",
    "import pickle\n",
    "import datetime as dt\n",
    "\n",
    "from indiv_image_utils import fetch_and_show_images"
   ]
  },
  {
   "cell_type": "markdown",
   "metadata": {},
   "source": [
    "# Init constants"
   ]
  },
  {
   "cell_type": "code",
   "execution_count": 2,
   "metadata": {},
   "outputs": [],
   "source": [
    "# CLIP_LIST = []\n",
    "CLIP_LIST = [\n",
    "    'E:/indiv_vdo/2021_0607_184742_013.MOV'\\\n",
    "    ,'E:/indiv_vdo/Top.MOV'\\\n",
    "]\n",
    "\n",
    "IMAGE_POOL_PATH = 'E:/indiv_vdo/extracted/image_pool' # path to store images that come from extract image from vdo\n",
    "DICT_PATH = 'E:/indiv_vdo/extracted/dict' # path to store dictionary from analyze image function"
   ]
  },
  {
   "cell_type": "markdown",
   "metadata": {},
   "source": [
    "# Extract info from image"
   ]
  },
  {
   "cell_type": "code",
   "execution_count": null,
   "metadata": {},
   "outputs": [],
   "source": [
    "def fetch_and_show_images(clip_path,\n",
    "                          save_dir,\n",
    "                          capture_interval=20,\n",
    "                          replace=False,\n",
    "                          verbose=True,\n",
    "                          resolution=(512, 256)\n",
    "                          ):\n",
    "    \"\"\"\n",
    "    Fetch images from a clip, save as individual files, then visualize using subplots.\n",
    "    \n",
    "    Parameters:\n",
    "    - clip_path (str): Path to the video clip.\n",
    "    - save_dir (str): Folder to save the fetched images.\n",
    "    - capture_interval (int): Span to fetch images. Default is 20 seconds.\n",
    "    - replace (bool): If True, replace existing images with the same name. Default is False.\n",
    "    - verbose (bool): If True, print out the process. Default is True.\n",
    "    \"\"\"\n",
    "\n",
    "    clip_name = clip_path.split('/')[-1].split('.')[0]\n",
    "\n",
    "    # Verify if save directory exists\n",
    "    if not os.path.exists(save_dir):\n",
    "        os.makedirs(save_dir)\n",
    "    # Initialize video reader\n",
    "    clip_reader = cv2.VideoCapture(clip_path)\n",
    "    frame_total = int(clip_reader.get(cv2.CAP_PROP_FRAME_COUNT))\n",
    "    fps = int(clip_reader.get(cv2.CAP_PROP_FPS))\n",
    "    duration = frame_total // fps\n",
    "\n",
    "    if verbose:\n",
    "        print(f\"Extracting {clip_name}\")\n",
    "        print(f\"Frames available in the clip: {frame_total} ({duration} sec.)\")\n",
    "        print(f\"Fetching every {capture_interval} second or {fps * capture_interval} frames\")\n",
    "    capture_interval *= fps\n",
    "\n",
    "    current_frame = 0\n",
    "    fetched_count = 0\n",
    "\n",
    "    while True:\n",
    "        # Read frame\n",
    "        status, image = clip_reader.read()\n",
    "\n",
    "        # If reading frame fails, exit the loop\n",
    "        if not status:\n",
    "            break\n",
    "\n",
    "        if current_frame % capture_interval == 0:\n",
    "            # resize image\n",
    "            image = cv2.resize(image, resolution)\n",
    "\n",
    "            image_filename = f\"{clip_name}-{int(current_frame/fps)}.png\"\n",
    "            image_filepath = save_dir + '/' + image_filename\n",
    "\n",
    "            if not os.path.exists(image_filepath) or replace:\n",
    "                cv2.imwrite(image_filepath, image)\n",
    "                if verbose:\n",
    "                    print(f\"Fetched frame {current_frame}({100*current_frame/frame_total:.2f}%) as {image_filename}\")\n",
    "            elif verbose:\n",
    "                print(f\"Image {image_filename} already exists, skipping...\")\n",
    "            fetched_count += 1\n",
    "\n",
    "        current_frame += 1\n",
    "\n",
    "    clip_reader.release()\n",
    "\n",
    "    if verbose:\n",
    "        print(f\"Process complete! Fetched {fetched_count} frames from the clip.\")"
   ]
  },
  {
   "cell_type": "markdown",
   "metadata": {},
   "source": [
    "## Extract image form VDO to image pool"
   ]
  },
  {
   "cell_type": "code",
   "execution_count": 3,
   "metadata": {},
   "outputs": [
    {
     "name": "stdout",
     "output_type": "stream",
     "text": [
      "Extracting 2021_0607_184742_013\n",
      "Frames available in the clip: 79094 (2636 sec.)\n",
      "Fetching every 10 second or 300 frames\n",
      "Image 2021_0607_184742_013-0.png already exists, skipping...\n",
      "Image 2021_0607_184742_013-10.png already exists, skipping...\n",
      "Image 2021_0607_184742_013-20.png already exists, skipping...\n",
      "Image 2021_0607_184742_013-30.png already exists, skipping...\n",
      "Image 2021_0607_184742_013-40.png already exists, skipping...\n",
      "Image 2021_0607_184742_013-50.png already exists, skipping...\n",
      "Image 2021_0607_184742_013-60.png already exists, skipping...\n",
      "Image 2021_0607_184742_013-70.png already exists, skipping...\n",
      "Image 2021_0607_184742_013-80.png already exists, skipping...\n"
     ]
    },
    {
     "ename": "KeyboardInterrupt",
     "evalue": "",
     "output_type": "error",
     "traceback": [
      "\u001b[1;31m---------------------------------------------------------------------------\u001b[0m",
      "\u001b[1;31mKeyboardInterrupt\u001b[0m                         Traceback (most recent call last)",
      "\u001b[1;32m<ipython-input-3-390b36197aa0>\u001b[0m in \u001b[0;36m<module>\u001b[1;34m\u001b[0m\n\u001b[0;32m      4\u001b[0m                           \u001b[0mcapture_interval\u001b[0m\u001b[1;33m=\u001b[0m\u001b[1;36m10\u001b[0m\u001b[1;33m,\u001b[0m\u001b[1;33m\u001b[0m\u001b[1;33m\u001b[0m\u001b[0m\n\u001b[0;32m      5\u001b[0m                           \u001b[0mreplace\u001b[0m\u001b[1;33m=\u001b[0m\u001b[1;32mFalse\u001b[0m\u001b[1;33m,\u001b[0m\u001b[1;33m\u001b[0m\u001b[1;33m\u001b[0m\u001b[0m\n\u001b[1;32m----> 6\u001b[1;33m                           \u001b[0mverbose\u001b[0m\u001b[1;33m=\u001b[0m\u001b[1;32mTrue\u001b[0m\u001b[1;33m\u001b[0m\u001b[1;33m\u001b[0m\u001b[0m\n\u001b[0m\u001b[0;32m      7\u001b[0m                         )\n",
      "\u001b[1;32mc:\\Users\\jiray\\Desktop\\indiv\\GAN-indiv-study\\Indiv_image\\indiv_image_utils.py\u001b[0m in \u001b[0;36mfetch_and_show_images\u001b[1;34m(clip_path, save_dir, capture_interval, replace, verbose, resolution)\u001b[0m\n\u001b[0;32m     41\u001b[0m     \u001b[1;32mwhile\u001b[0m \u001b[1;32mTrue\u001b[0m\u001b[1;33m:\u001b[0m\u001b[1;33m\u001b[0m\u001b[1;33m\u001b[0m\u001b[0m\n\u001b[0;32m     42\u001b[0m         \u001b[1;31m# Read frame\u001b[0m\u001b[1;33m\u001b[0m\u001b[1;33m\u001b[0m\u001b[1;33m\u001b[0m\u001b[0m\n\u001b[1;32m---> 43\u001b[1;33m         \u001b[0mstatus\u001b[0m\u001b[1;33m,\u001b[0m \u001b[0mimage\u001b[0m \u001b[1;33m=\u001b[0m \u001b[0mclip_reader\u001b[0m\u001b[1;33m.\u001b[0m\u001b[0mread\u001b[0m\u001b[1;33m(\u001b[0m\u001b[1;33m)\u001b[0m\u001b[1;33m\u001b[0m\u001b[1;33m\u001b[0m\u001b[0m\n\u001b[0m\u001b[0;32m     44\u001b[0m \u001b[1;33m\u001b[0m\u001b[0m\n\u001b[0;32m     45\u001b[0m         \u001b[1;31m# If reading frame fails, exit the loop\u001b[0m\u001b[1;33m\u001b[0m\u001b[1;33m\u001b[0m\u001b[1;33m\u001b[0m\u001b[0m\n",
      "\u001b[1;31mKeyboardInterrupt\u001b[0m: "
     ]
    }
   ],
   "source": [
    "for clip_path in CLIP_LIST:\n",
    "    fetch_and_show_images(clip_path=clip_path,\n",
    "                          save_dir=IMAGE_POOL_PATH,\n",
    "                          capture_interval=10,\n",
    "                          replace=False,\n",
    "                          verbose=True\n",
    "                        )"
   ]
  },
  {
   "cell_type": "markdown",
   "metadata": {},
   "source": [
    "## Extract info from image pool\n",
    "1. date and time each image from image pool\n",
    "1. average intensity each image from image pool\n",
    "1. label to night or day each image (after 6pm to 6am is night, other is day)"
   ]
  },
  {
   "cell_type": "code",
   "execution_count": 6,
   "metadata": {},
   "outputs": [],
   "source": [
    "# create directory if it does not exist\n",
    "if not os.path.exists(DICT_PATH):\n",
    "    os.makedirs(DICT_PATH)\n",
    "\n",
    "# create empty dictionary if file does not exist\n",
    "if not os.path.exists(DICT_PATH + '/info_dict.pkl'):\n",
    "    with open(DICT_PATH + '/info_dict.pkl', 'wb') as f:\n",
    "        pickle.dump({}, f)\n",
    "\n",
    "# read info dict\n",
    "with open(DICT_PATH + '/info_dict.pkl', 'rb') as f:\n",
    "    info_dict = pickle.load(f)\n"
   ]
  },
  {
   "cell_type": "code",
   "execution_count": 7,
   "metadata": {},
   "outputs": [],
   "source": [
    "def get_datetime(img):\n",
    "    '''\n",
    "    Get datetime from image name\n",
    "    on assumtion that file name is on format: 'yyyy_mmdd_hhmmss_fff-t.png'\n",
    "    which\n",
    "        yyyy_mmdd_hhmmss_fff is started record datetime\n",
    "        t is time from started record datetime (sec.)\n",
    "    '''\n",
    "    try:\n",
    "        # remove file extension\n",
    "        img = img.split('.')[0]\n",
    "\n",
    "        # get datetime from file name\n",
    "        start_record_datetime = img.split('-')[0]\n",
    "        start_record_datetime = dt.datetime.strptime(start_record_datetime, '%Y_%m%d_%H%M%S_%f')\n",
    "\n",
    "        # get time from started record datetime\n",
    "        time_from_start_record = img.split('-')[1]\n",
    "        time_from_start_record = dt.timedelta(seconds=int(time_from_start_record))\n",
    "\n",
    "        # get datetime from image\n",
    "        img_datetime = start_record_datetime + time_from_start_record\n",
    "\n",
    "        return img_datetime\n",
    "    except:\n",
    "        return None"
   ]
  },
  {
   "cell_type": "code",
   "execution_count": 10,
   "metadata": {},
   "outputs": [
    {
     "name": "stderr",
     "output_type": "stream",
     "text": [
      "Processing Top-990.png: 100%|██████████| 673/673 [00:06<00:00, 102.55image/s]                  \n"
     ]
    }
   ],
   "source": [
    "image_name_list = os.listdir(IMAGE_POOL_PATH)\n",
    "\n",
    "looper = tqdm(image_name_list, unit='image')\n",
    "for image_name in looper:\n",
    "    looper.set_description(f'Processing {image_name}')\n",
    "\n",
    "    if image_name not in info_dict:\n",
    "        info_dict[image_name] = dict()\n",
    "    \n",
    "    ## get datetime from image\n",
    "    img_datetime = get_datetime(image_name)\n",
    "    \n",
    "    info_dict[image_name]['datetime'] = img_datetime\n",
    "\n",
    "    ## get image shape\n",
    "    image = cv2.imread(IMAGE_POOL_PATH + '/' + image_name)\n",
    "    info_dict[image_name]['shape'] = image.shape\n",
    "\n",
    "    ## get avg intensity\n",
    "    gray_image = cv2.imread(IMAGE_POOL_PATH + '/' + image_name, cv2.IMREAD_GRAYSCALE)\n",
    "    avg_intensity = np.mean(gray_image)\n",
    "    \n",
    "    info_dict[image_name]['avg_intensity'] = avg_intensity\n",
    "\n",
    "    ## get original vdo name\n",
    "    info_dict[image_name]['vdo_name'] = image_name.split('-')[0] + '.MOV'\n",
    "\n",
    "    ## label it's day or night(7pm - 6am)\n",
    "    if img_datetime is None:\n",
    "        # if vdo name is Top.MOV, then it's day\n",
    "        if info_dict[image_name]['vdo_name'] == 'Top.MOV':\n",
    "            info_dict[image_name]['day_night'] = 'day'\n",
    "    elif img_datetime.hour >= 19 or img_datetime.hour <= 6:\n",
    "        info_dict[image_name]['day_night'] = 'night'\n",
    "    else:\n",
    "        info_dict[image_name]['day_night'] = 'day'\n",
    "\n",
    "# save info_dict\n",
    "with open(DICT_PATH + '/info_dict.pkl', 'wb') as f:\n",
    "    pickle.dump(info_dict, f)"
   ]
  },
  {
   "cell_type": "markdown",
   "metadata": {},
   "source": [
    "# Summary in image pool"
   ]
  },
  {
   "cell_type": "code",
   "execution_count": 22,
   "metadata": {},
   "outputs": [],
   "source": [
    "import tqdm"
   ]
  },
  {
   "cell_type": "code",
   "execution_count": 11,
   "metadata": {},
   "outputs": [],
   "source": [
    "# read info dict\n",
    "with open(DICT_PATH + '/info_dict.pkl', 'rb') as f:\n",
    "    info_dict = pickle.load(f)"
   ]
  },
  {
   "cell_type": "code",
   "execution_count": 23,
   "metadata": {},
   "outputs": [
    {
     "name": "stderr",
     "output_type": "stream",
     "text": [
      "100%|██████████| 673/673 [00:00<00:00, 672407.48it/s]\n"
     ]
    }
   ],
   "source": [
    "night_image_name_list = []\n",
    "day_image_name_list = []\n",
    "other_image_name_list = []\n",
    "total_image_amount = len(info_dict)\n",
    "original_vdo_count = dict()\n",
    "\n",
    "for image_name in tqdm.tqdm(info_dict):\n",
    "    # add image name to list\n",
    "    if info_dict[image_name]['day_night'] == 'night':\n",
    "        night_image_name_list.append(image_name)\n",
    "    elif info_dict[image_name]['day_night'] == 'day':\n",
    "        day_image_name_list.append(image_name)\n",
    "    else:\n",
    "        other_image_name_list.append(image_name)\n",
    "\n",
    "    # add original vdo name to dict\n",
    "    if info_dict[image_name]['vdo_name'] not in original_vdo_count:\n",
    "        original_vdo_count[info_dict[image_name]['vdo_name']] = 1\n",
    "    else:\n",
    "        original_vdo_count[info_dict[image_name]['vdo_name']] += 1"
   ]
  },
  {
   "cell_type": "code",
   "execution_count": 28,
   "metadata": {},
   "outputs": [
    {
     "name": "stdout",
     "output_type": "stream",
     "text": [
      "[x] Total amount of image: 673\n",
      "[x] Amount of day image: 483(71.77%)\n",
      "[x] Amount of night image: 190(28.23%)\n",
      "[x] Count of image from each original vdo\n",
      "\t- 2021_0607_184742_013.MOV: 264\n",
      "\t- Top.MOV: 409\n"
     ]
    }
   ],
   "source": [
    "print(f'[x] Total amount of image: {total_image_amount}')\n",
    "print(f'[x] Amount of day image: {len(day_image_name_list)}({len(day_image_name_list)/total_image_amount*100:.2f}%)')\n",
    "print(f'[x] Amount of night image: {len(night_image_name_list)}({len(night_image_name_list)/total_image_amount*100:.2f}%)')\n",
    "\n",
    "print('[x] Count of image from each original vdo')\n",
    "for vdo_name in original_vdo_count:\n",
    "    print(f'\\t- {vdo_name}: {original_vdo_count[vdo_name]}')"
   ]
  }
 ],
 "metadata": {
  "kernelspec": {
   "display_name": "env",
   "language": "python",
   "name": "python3"
  },
  "language_info": {
   "codemirror_mode": {
    "name": "ipython",
    "version": 3
   },
   "file_extension": ".py",
   "mimetype": "text/x-python",
   "name": "python",
   "nbconvert_exporter": "python",
   "pygments_lexer": "ipython3",
   "version": "3.6.13"
  }
 },
 "nbformat": 4,
 "nbformat_minor": 2
}
