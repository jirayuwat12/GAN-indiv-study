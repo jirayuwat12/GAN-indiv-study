{
 "cells": [
  {
   "cell_type": "markdown",
   "metadata": {},
   "source": [
    "# Import ness. lib"
   ]
  },
  {
   "cell_type": "code",
   "execution_count": 2,
   "metadata": {},
   "outputs": [
    {
     "name": "stdout",
     "output_type": "stream",
     "text": [
      "Collecting opencv-python\n",
      "  Downloading opencv_python-4.8.1.78-cp37-abi3-macosx_11_0_arm64.whl (33.1 MB)\n",
      "\u001b[K     |████████████████████████████████| 33.1 MB 45.3 MB/s eta 0:00:01\n",
      "\u001b[?25hRequirement already satisfied: numpy>=1.19.3 in /Users/jirayuwat/Desktop/GAN-indiv-study/env/lib/python3.9/site-packages (from opencv-python) (1.25.2)\n",
      "Installing collected packages: opencv-python\n",
      "Successfully installed opencv-python-4.8.1.78\n",
      "\u001b[33mWARNING: You are using pip version 21.2.4; however, version 23.3 is available.\n",
      "You should consider upgrading via the '/Users/jirayuwat/Desktop/GAN-indiv-study/env/bin/python -m pip install --upgrade pip' command.\u001b[0m\n",
      "Note: you may need to restart the kernel to use updated packages.\n"
     ]
    }
   ],
   "source": [
    "%pip install opencv-python"
   ]
  },
  {
   "cell_type": "code",
   "execution_count": 21,
   "metadata": {},
   "outputs": [],
   "source": [
    "import cv2\n",
    "import os\n",
    "import matplotlib.pyplot as plt\n",
    "import re"
   ]
  },
  {
   "cell_type": "markdown",
   "metadata": {},
   "source": [
    "# Create extract function"
   ]
  },
  {
   "cell_type": "code",
   "execution_count": 44,
   "metadata": {},
   "outputs": [],
   "source": [
    "def fetch_and_show_images(clip_path, \n",
    "                          save_dir, \n",
    "                          capture_interval=20\n",
    "                          ):\n",
    "    \"\"\"\n",
    "    Fetch images from a clip, save as individual files, then visualize using subplots.\n",
    "    \n",
    "    Parameters:\n",
    "    - clip_path (str): Path to the video clip.\n",
    "    - save_dir (str): Folder to save the fetched images.\n",
    "    - capture_interval (int): Span to fetch images.\n",
    "    \"\"\"\n",
    "    clip_name = re.findall(\"[^/]+/([^.]*).*\", clip_path)[-1]\n",
    "\n",
    "    # Verify if save directory exists\n",
    "    if not os.path.exists(save_dir):\n",
    "        os.makedirs(save_dir)\n",
    "    # Initialize video reader\n",
    "    clip_reader = cv2.VideoCapture(clip_path)\n",
    "    frame_total = int(clip_reader.get(cv2.CAP_PROP_FRAME_COUNT))\n",
    "    fps = int(clip_reader.get(cv2.CAP_PROP_FPS))\n",
    "    duration = frame_total // fps\n",
    "\n",
    "\n",
    "    print(f\"Extracting {clip_name}\")\n",
    "    print(f\"Frames available in the clip: {frame_total} ({duration} sec.)\")\n",
    "    print(f\"Fetching every {capture_interval} second or {fps * capture_interval} frames\")\n",
    "    capture_interval *= fps\n",
    "\n",
    "    current_frame = 0\n",
    "    fetched_count = 0\n",
    "    image_list = []\n",
    "\n",
    "    while True:\n",
    "        status, image = clip_reader.read()\n",
    "\n",
    "        # If reading frame fails, exit the loop\n",
    "        if not status:\n",
    "            break\n",
    "        \n",
    "        # Switch from BGR (OpenCV default) to RGB for visualization with matplotlib\n",
    "        image_rgb = cv2.cvtColor(image, cv2.COLOR_BGR2RGB)\n",
    "\n",
    "        if current_frame % capture_interval == 0:\n",
    "            image_filename = f\"{clip_name}-{current_frame/fps:.2f}.png\"\n",
    "            image_filepath = os.path.join(save_dir, image_filename)\n",
    "            \n",
    "            cv2.imwrite(image_filepath, image)\n",
    "            image_list.append(image_rgb)\n",
    "            fetched_count += 1\n",
    "            print(f\"Fetched frame {current_frame}({current_frame / fps}) as {image_filename}\")\n",
    "\n",
    "        current_frame += 1\n",
    "\n",
    "    clip_reader.release()\n",
    "\n",
    "    # Display images using subplots\n",
    "    subplot_rows = len(image_list) // 2 + len(image_list) % 2\n",
    "    figure, axes = plt.subplots(subplot_rows, 2, figsize=(10, 10))\n",
    "\n",
    "    for idx, axis in enumerate(axes.ravel()):\n",
    "        if idx < len(image_list):\n",
    "            axis.imshow(image_list[idx])\n",
    "            axis.set_title(f\"Snapshot at {idx * capture_interval}\")\n",
    "            axis.axis('off')\n",
    "        else:\n",
    "            axis.axis('off')\n",
    "\n",
    "    print(f\"Process complete! Fetched {fetched_count} frames from the clip.\")"
   ]
  },
  {
   "cell_type": "code",
   "execution_count": null,
   "metadata": {},
   "outputs": [],
   "source": [
    "fetch_and_show_images(clip_path='./2021_0607_184742_013.MOV',\n",
    "                      save_dir='./image_pool',\n",
    "                      capture_interval=10)"
   ]
  },
  {
   "cell_type": "code",
   "execution_count": null,
   "metadata": {},
   "outputs": [],
   "source": []
  }
 ],
 "metadata": {
  "kernelspec": {
   "display_name": "env",
   "language": "python",
   "name": "python3"
  },
  "language_info": {
   "codemirror_mode": {
    "name": "ipython",
    "version": 3
   },
   "file_extension": ".py",
   "mimetype": "text/x-python",
   "name": "python",
   "nbconvert_exporter": "python",
   "pygments_lexer": "ipython3",
   "version": "3.9.6"
  }
 },
 "nbformat": 4,
 "nbformat_minor": 2
}
